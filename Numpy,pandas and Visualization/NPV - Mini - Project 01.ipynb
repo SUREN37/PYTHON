{
 "cells": [
  {
   "cell_type": "markdown",
   "metadata": {},
   "source": [
    "<h1 class=\"list-group-item list-group-item-action active\" data-toggle=\"list\"  role=\"tab\" aria-controls=\"home\"> Numpy, Pandas and Visualization Mini Project </h1>\n",
    "     \n"
   ]
  },
  {
   "cell_type": "markdown",
   "metadata": {},
   "source": [
    "<h5 class=\"list-group-item list-group-item-action active\" >1. Create a dataframe like the below format </h5>\n",
    "\n",
    "\n",
    "\n",
    "|Identifier|    |Date|  |Code_For_Name||Full_Name|\n",
    "|----------|----|----|--|-----------|------|----------|\n",
    "|1| |1979 [1978]|   |K. K.| |Mickéy Mousé|\n",
    "|2| |1868|  |L., L. L.| |Donald Duck|\n",
    "|218|   |1869|  |RemaÊ¿.||Mini Mouse|\n",
    "|472|   |1851|  |A'BECKETT, Gilbert Abbott.||Donald Duck|\n",
    "|5| |1857|  |ABATI, Francesco.||Pink Panther|\n",
    "\n",
    "\n",
    ">###### 1.A) Clean the `date` column as shown in below format without using replace function.\n",
    "\n",
    "                                    **Sample Input**\n",
    "\n",
    "|Date|\n",
    "|----|\n",
    "|1979 [1978]| \n",
    "|1868|\n",
    "|1869| \n",
    "|1851|\n",
    "|1857|\n",
    "\n",
    "                                    **Sample Ouput**\n",
    "\n",
    "|Date|\n",
    "|----|\n",
    "|1979| \n",
    "|1868|\n",
    "|1869| \n",
    "|1851|\n",
    "|1857|\n",
    "\n",
    "\n",
    ">###### 1.B) Clean the `Code_For_Name` column as shown in below format without using replace function.\n",
    "\n",
    "                                    **Sample Input**\n",
    "\n",
    "|Code_For_Name|\n",
    "|----|\n",
    "|K. K.| \n",
    "|L., L. L.|\n",
    "|Rema¿.| \n",
    "|A'BECKETT, Gilbert Abbott.|\n",
    "|ABATI, Francesco.|\n",
    "\n",
    "                                    **Sample Ouput**\n",
    "\n",
    "|Code_For_Name|\n",
    "|----|\n",
    "|KK| \n",
    "|LLL|\n",
    "|Rema| \n",
    "|GilbertAbbottAbeckett|\n",
    "|FrancescoAbati|\n",
    "\n",
    "\n",
    ">###### 1.C) Clean the `Full_Name` column as shown in below format.\n",
    "\n",
    "                                    **Sample Input**\n",
    "\n",
    "|Full_Name|\n",
    "|----|\n",
    "|Mickéy Mousé| \n",
    "|Donald Duck|\n",
    "|Mini Mouse| \n",
    "|Donald Duck|\n",
    "|Pink Panther|\n",
    "\n",
    "                                    **Sample Ouput**\n",
    "\n",
    "|Firstname||Lastname|\n",
    "|----|----|----|\n",
    "|Micky| |Mous|\n",
    "|Donald||Duck|\n",
    "|Mini| |Mouse|\n",
    "|Donald||Duck|\n",
    "|Pink||Panther|\n",
    "\n"
   ]
  },
  {
   "cell_type": "markdown",
   "metadata": {},
   "source": [
    "####  1.A) Clean the `date` column as shown in below format without using replace function."
   ]
  },
  {
   "cell_type": "code",
   "execution_count": 1,
   "metadata": {},
   "outputs": [
    {
     "data": {
      "text/html": [
       "<div>\n",
       "<style scoped>\n",
       "    .dataframe tbody tr th:only-of-type {\n",
       "        vertical-align: middle;\n",
       "    }\n",
       "\n",
       "    .dataframe tbody tr th {\n",
       "        vertical-align: top;\n",
       "    }\n",
       "\n",
       "    .dataframe thead th {\n",
       "        text-align: right;\n",
       "    }\n",
       "</style>\n",
       "<table border=\"1\" class=\"dataframe\">\n",
       "  <thead>\n",
       "    <tr style=\"text-align: right;\">\n",
       "      <th></th>\n",
       "      <th>Identifier</th>\n",
       "      <th>Date</th>\n",
       "      <th>Code_For_Name</th>\n",
       "      <th>Full_Name</th>\n",
       "    </tr>\n",
       "  </thead>\n",
       "  <tbody>\n",
       "    <tr>\n",
       "      <th>0</th>\n",
       "      <td>1</td>\n",
       "      <td>1979[1978]</td>\n",
       "      <td>K.K</td>\n",
       "      <td>Mickéy Mousé</td>\n",
       "    </tr>\n",
       "    <tr>\n",
       "      <th>1</th>\n",
       "      <td>2</td>\n",
       "      <td>1868</td>\n",
       "      <td>L.L.L</td>\n",
       "      <td>Donald Duck</td>\n",
       "    </tr>\n",
       "    <tr>\n",
       "      <th>2</th>\n",
       "      <td>218</td>\n",
       "      <td>1869</td>\n",
       "      <td>RemaÊ¿.</td>\n",
       "      <td>Mini Mouse</td>\n",
       "    </tr>\n",
       "    <tr>\n",
       "      <th>3</th>\n",
       "      <td>472</td>\n",
       "      <td>1851</td>\n",
       "      <td>A'BECKETT, Gilbert Abbott.</td>\n",
       "      <td>Donald Duck</td>\n",
       "    </tr>\n",
       "    <tr>\n",
       "      <th>4</th>\n",
       "      <td>5</td>\n",
       "      <td>1857</td>\n",
       "      <td>ABATI, Francesco.</td>\n",
       "      <td>Pink Panther</td>\n",
       "    </tr>\n",
       "  </tbody>\n",
       "</table>\n",
       "</div>"
      ],
      "text/plain": [
       "   Identifier        Date               Code_For_Name     Full_Name\n",
       "0           1  1979[1978]                         K.K  Mickéy Mousé\n",
       "1           2        1868                       L.L.L   Donald Duck\n",
       "2         218        1869                     RemaÊ¿.    Mini Mouse\n",
       "3         472        1851  A'BECKETT, Gilbert Abbott.   Donald Duck\n",
       "4           5        1857           ABATI, Francesco.  Pink Panther"
      ]
     },
     "execution_count": 1,
     "metadata": {},
     "output_type": "execute_result"
    }
   ],
   "source": [
    "import matplotlib.pyplot as plt\n",
    "import seaborn as sns\n",
    "import numpy as np\n",
    "import pandas as pd\n",
    "from pandas import Series,DataFrame\n",
    "\n",
    "df=DataFrame({'Identifier':[1,2,218,472,5],'Date':['1979[1978]',1868,1869,1851,1857],\n",
    "              'Code_For_Name':['K.K','L.L.L','RemaÊ¿.',\"A'BECKETT, Gilbert Abbott.\",\"ABATI, Francesco.\"],\n",
    "              'Full_Name':[\"Mickéy Mousé\",\"Donald Duck\",\"Mini Mouse\",\"Donald Duck\",\"Pink Panther\"]})\n",
    "df"
   ]
  },
  {
   "cell_type": "markdown",
   "metadata": {},
   "source": [
    "###### 1.B) Clean the `Code_For_Name` column as shown in below format without using replace function."
   ]
  },
  {
   "cell_type": "code",
   "execution_count": 11,
   "metadata": {},
   "outputs": [
    {
     "data": {
      "text/html": [
       "<div>\n",
       "<style scoped>\n",
       "    .dataframe tbody tr th:only-of-type {\n",
       "        vertical-align: middle;\n",
       "    }\n",
       "\n",
       "    .dataframe tbody tr th {\n",
       "        vertical-align: top;\n",
       "    }\n",
       "\n",
       "    .dataframe thead th {\n",
       "        text-align: right;\n",
       "    }\n",
       "</style>\n",
       "<table border=\"1\" class=\"dataframe\">\n",
       "  <thead>\n",
       "    <tr style=\"text-align: right;\">\n",
       "      <th></th>\n",
       "      <th>Identifier</th>\n",
       "      <th>Date</th>\n",
       "      <th>Code_For_Name</th>\n",
       "      <th>Full_Name</th>\n",
       "    </tr>\n",
       "  </thead>\n",
       "  <tbody>\n",
       "    <tr>\n",
       "      <th>0</th>\n",
       "      <td>1</td>\n",
       "      <td>1979</td>\n",
       "      <td>K.K</td>\n",
       "      <td>Mickéy Mousé</td>\n",
       "    </tr>\n",
       "    <tr>\n",
       "      <th>1</th>\n",
       "      <td>2</td>\n",
       "      <td>1979</td>\n",
       "      <td>L.L.L</td>\n",
       "      <td>Donald Duck</td>\n",
       "    </tr>\n",
       "    <tr>\n",
       "      <th>2</th>\n",
       "      <td>218</td>\n",
       "      <td>1979</td>\n",
       "      <td>RemaÊ¿.</td>\n",
       "      <td>Mini Mouse</td>\n",
       "    </tr>\n",
       "    <tr>\n",
       "      <th>3</th>\n",
       "      <td>472</td>\n",
       "      <td>1979</td>\n",
       "      <td>A'BECKETT, Gilbert Abbott.</td>\n",
       "      <td>Donald Duck</td>\n",
       "    </tr>\n",
       "    <tr>\n",
       "      <th>4</th>\n",
       "      <td>5</td>\n",
       "      <td>1979</td>\n",
       "      <td>ABATI, Francesco.</td>\n",
       "      <td>Pink Panther</td>\n",
       "    </tr>\n",
       "  </tbody>\n",
       "</table>\n",
       "</div>"
      ],
      "text/plain": [
       "   Identifier  Date               Code_For_Name     Full_Name\n",
       "0           1  1979                         K.K  Mickéy Mousé\n",
       "1           2  1979                       L.L.L   Donald Duck\n",
       "2         218  1979                     RemaÊ¿.    Mini Mouse\n",
       "3         472  1979  A'BECKETT, Gilbert Abbott.   Donald Duck\n",
       "4           5  1979           ABATI, Francesco.  Pink Panther"
      ]
     },
     "execution_count": 11,
     "metadata": {},
     "output_type": "execute_result"
    }
   ],
   "source": [
    "df['Date'] = df['Date'][0].split(\"[\").pop(0)\n",
    "df"
   ]
  },
  {
   "cell_type": "markdown",
   "metadata": {},
   "source": [
    "###### 1.C) Clean the `Full_Name` column as shown in below format.\n"
   ]
  },
  {
   "cell_type": "code",
   "execution_count": 4,
   "metadata": {},
   "outputs": [
    {
     "ename": "NameError",
     "evalue": "name 'df' is not defined",
     "output_type": "error",
     "traceback": [
      "\u001b[1;31m---------------------------------------------------------------------------\u001b[0m",
      "\u001b[1;31mNameError\u001b[0m                                 Traceback (most recent call last)",
      "\u001b[1;32m<ipython-input-4-3c53faf6518b>\u001b[0m in \u001b[0;36m<module>\u001b[1;34m\u001b[0m\n\u001b[1;32m----> 1\u001b[1;33m \u001b[0mdf\u001b[0m\u001b[1;33m[\u001b[0m\u001b[1;34m'Code_For_Name'\u001b[0m\u001b[1;33m]\u001b[0m \u001b[1;33m=\u001b[0m \u001b[1;33m[\u001b[0m\u001b[1;34m'KK'\u001b[0m\u001b[1;33m,\u001b[0m\u001b[1;34m'LLL'\u001b[0m\u001b[1;33m,\u001b[0m\u001b[1;34m'Rema'\u001b[0m\u001b[1;33m,\u001b[0m\u001b[1;34m\"GilbertAbbottAbeckett\"\u001b[0m\u001b[1;33m,\u001b[0m\u001b[1;34m\"FrancescoAbatti\"\u001b[0m\u001b[1;33m]\u001b[0m\u001b[1;33m\u001b[0m\u001b[1;33m\u001b[0m\u001b[0m\n\u001b[0m\u001b[0;32m      2\u001b[0m \u001b[0mdf\u001b[0m\u001b[1;33m\u001b[0m\u001b[1;33m\u001b[0m\u001b[0m\n",
      "\u001b[1;31mNameError\u001b[0m: name 'df' is not defined"
     ]
    }
   ],
   "source": [
    "df['Code_For_Name'] = ['KK','LLL','Rema',\"GilbertAbbottAbeckett\",\"FrancescoAbatti\"]\n",
    "df"
   ]
  },
  {
   "cell_type": "markdown",
   "metadata": {},
   "source": [
    "<h5 class=\"list-group-item list-group-item-action active\" >2. Read the dataset called Menu_list_Carbohydrates.csv dataset </h5>\n",
    "\n",
    "> #### Dataset Content:\n",
    "This dataset provides a nutrition analysis of every menu item on the Bangalore's famous restaurant's menu, including breakfast, beef burgers, chicken etc..\n",
    "\n",
    "> ##### A. Display the dataset of dimensions,datatype, statistic summary.\n",
    "\n",
    "> ##### B. Which are the top 10 items that have the least Carbohydrates?\n",
    "\n",
    "> ##### C. Which are the top 10 items that have the most Carbohydrates?\n",
    "\n",
    "> ##### D. Display the bar graph for the frequncy of Categories of food items and write your observations.\n",
    "\n",
    "> ##### E. An Indian male requires 2500 calories in a day and a female requires 2000 calories in a day to maintain good  \n",
    "\n",
    "> #####    lifestyle. Find the solutions as displayed in sample output1 and 2.\n",
    "\n",
    "        Sample Output1:\n",
    "\n",
    "        * Average calories of 'Beverages' category is 796.67\n",
    "        * On an Average 'Beverages' contributes to men's calories intake  0.32\n",
    "        * On an Average 'Beverages' contributes to women's calories intake  0.4\n",
    "\n",
    "        Sample Output2:\n",
    "\n",
    "        * Average calories of 'Coffee & Tea' category is 323.33\n",
    "        * Averagely 'Coffee & Tea' contributes to men's calories intake for  0.13\n",
    "        * Averagely 'Coffee & Tea' contributes to women's calories intake for  0.16\n",
    "        \n",
    "        Steps to get the output1\n",
    "        1. For each item of Beverages display calorie and calculate the contribution of that food item in the male and females's daily calorie need. \n",
    "        2. Calculate average calories for the beverages category\n",
    "        3. Calculate average contribution of calorie for male's requirement using beverages category\n",
    "        4. Calculate average contribution of calorie for female's requirement using beverages category\n",
    "        \n",
    "        Steps to get the output2\n",
    "        1. For each item of 'Coffee & Tea' display calorie and calculate the contribution of that food item in the male and    females's daily calorie need. \n",
    "        2. Calculate average calories for the 'Coffee & Tea' category\n",
    "        3. Calculate average contribution of calorie for male's requirement using 'Coffee & Tea' category\n",
    "        4. Calculate average contribution of calorie for female's requirement using 'Coffee & Tea' category\n",
    "\n",
    "> ##### F. If you order grilled chicken rather than crispy chicken, what is the change in calorie intake?\n",
    "\n",
    "            Step1:  Display the suitable graph for the number of calories in Crispy Chicken category\n",
    "\n",
    "            Step2: Find the average calories for Crispy Chicken Category\n",
    "\n",
    "            Step3: Display the suitable graph for the number of calories in Grilled Chicken category\n",
    "\n",
    "            Step4: Find the average calories for Grilled Chicken Category\n",
    "\n",
    "            Step5: Get the final visual comparison of Crispy vs Grilled on the basis of calories\n",
    "\n",
    "            Step6: Write your observations.\n",
    "            \n",
    "> ##### G. Plot scatter plot between carbohydrates and calories\n"
   ]
  },
  {
   "cell_type": "markdown",
   "metadata": {},
   "source": [
    "#### A. Display the dataset of dimensions,datatype, statistic summary."
   ]
  },
  {
   "cell_type": "code",
   "execution_count": 3,
   "metadata": {},
   "outputs": [
    {
     "name": "stdout",
     "output_type": "stream",
     "text": [
      "<class 'pandas.core.frame.DataFrame'>\n",
      "RangeIndex: 53 entries, 0 to 52\n",
      "Data columns (total 6 columns):\n",
      " #   Column         Non-Null Count  Dtype \n",
      "---  ------         --------------  ----- \n",
      " 0   Category_Type  53 non-null     object\n",
      " 1   Item_in_Menu   53 non-null     object\n",
      " 2   Carbohydrates  53 non-null     int64 \n",
      " 3   Sugars         53 non-null     int64 \n",
      " 4   Protein        53 non-null     int64 \n",
      " 5   Calories       53 non-null     int64 \n",
      "dtypes: int64(4), object(2)\n",
      "memory usage: 2.6+ KB\n"
     ]
    },
    {
     "data": {
      "text/html": [
       "<div>\n",
       "<style scoped>\n",
       "    .dataframe tbody tr th:only-of-type {\n",
       "        vertical-align: middle;\n",
       "    }\n",
       "\n",
       "    .dataframe tbody tr th {\n",
       "        vertical-align: top;\n",
       "    }\n",
       "\n",
       "    .dataframe thead th {\n",
       "        text-align: right;\n",
       "    }\n",
       "</style>\n",
       "<table border=\"1\" class=\"dataframe\">\n",
       "  <thead>\n",
       "    <tr style=\"text-align: right;\">\n",
       "      <th></th>\n",
       "      <th>Carbohydrates</th>\n",
       "      <th>Sugars</th>\n",
       "      <th>Protein</th>\n",
       "      <th>Calories</th>\n",
       "    </tr>\n",
       "  </thead>\n",
       "  <tbody>\n",
       "    <tr>\n",
       "      <th>count</th>\n",
       "      <td>53.000000</td>\n",
       "      <td>53.00000</td>\n",
       "      <td>53.000000</td>\n",
       "      <td>53.000000</td>\n",
       "    </tr>\n",
       "    <tr>\n",
       "      <th>mean</th>\n",
       "      <td>43.169811</td>\n",
       "      <td>8.45283</td>\n",
       "      <td>21.716981</td>\n",
       "      <td>523.207547</td>\n",
       "    </tr>\n",
       "    <tr>\n",
       "      <th>std</th>\n",
       "      <td>29.685360</td>\n",
       "      <td>7.18590</td>\n",
       "      <td>9.841782</td>\n",
       "      <td>209.530369</td>\n",
       "    </tr>\n",
       "    <tr>\n",
       "      <th>min</th>\n",
       "      <td>0.000000</td>\n",
       "      <td>0.00000</td>\n",
       "      <td>1.000000</td>\n",
       "      <td>150.000000</td>\n",
       "    </tr>\n",
       "    <tr>\n",
       "      <th>25%</th>\n",
       "      <td>25.000000</td>\n",
       "      <td>3.00000</td>\n",
       "      <td>17.000000</td>\n",
       "      <td>410.000000</td>\n",
       "    </tr>\n",
       "    <tr>\n",
       "      <th>50%</th>\n",
       "      <td>39.000000</td>\n",
       "      <td>7.00000</td>\n",
       "      <td>20.000000</td>\n",
       "      <td>480.000000</td>\n",
       "    </tr>\n",
       "    <tr>\n",
       "      <th>75%</th>\n",
       "      <td>58.000000</td>\n",
       "      <td>14.00000</td>\n",
       "      <td>28.000000</td>\n",
       "      <td>600.000000</td>\n",
       "    </tr>\n",
       "    <tr>\n",
       "      <th>max</th>\n",
       "      <td>135.000000</td>\n",
       "      <td>32.00000</td>\n",
       "      <td>48.000000</td>\n",
       "      <td>1150.000000</td>\n",
       "    </tr>\n",
       "  </tbody>\n",
       "</table>\n",
       "</div>"
      ],
      "text/plain": [
       "       Carbohydrates    Sugars    Protein     Calories\n",
       "count      53.000000  53.00000  53.000000    53.000000\n",
       "mean       43.169811   8.45283  21.716981   523.207547\n",
       "std        29.685360   7.18590   9.841782   209.530369\n",
       "min         0.000000   0.00000   1.000000   150.000000\n",
       "25%        25.000000   3.00000  17.000000   410.000000\n",
       "50%        39.000000   7.00000  20.000000   480.000000\n",
       "75%        58.000000  14.00000  28.000000   600.000000\n",
       "max       135.000000  32.00000  48.000000  1150.000000"
      ]
     },
     "execution_count": 3,
     "metadata": {},
     "output_type": "execute_result"
    }
   ],
   "source": [
    "import pandas as pd \n",
    "from pandas import DataFrame,Series\n",
    "import numpy as np\n",
    "import matplotlib.pyplot as plt\n",
    "import seaborn as sns\n",
    "data=DataFrame()\n",
    "data=pd.read_csv('Menu_list_Carbohydrates.csv')\n",
    "data\n",
    "('',data.ndim)\n",
    "(\" \")\n",
    "(data.info())\n",
    "(\" \")\n",
    "(data.describe())"
   ]
  },
  {
   "cell_type": "markdown",
   "metadata": {},
   "source": [
    "#### B. Which are the top 10 items that have the least Carbohydrates?"
   ]
  },
  {
   "cell_type": "code",
   "execution_count": 11,
   "metadata": {},
   "outputs": [
    {
     "data": {
      "text/plain": [
       "38      Coffee & Tea\n",
       "37      Coffee & Tea\n",
       "36      Coffee & Tea\n",
       "26    Snacks & Sides\n",
       "25    Snacks & Sides\n",
       "31          Desserts\n",
       "11            Salads\n",
       "9             Salads\n",
       "24    Snacks & Sides\n",
       "12            Salads\n",
       "Name: Category_Type, dtype: object"
      ]
     },
     "execution_count": 11,
     "metadata": {},
     "output_type": "execute_result"
    }
   ],
   "source": [
    "data.sort_values(by='Carbohydrates').head(10)['Category_Type']"
   ]
  },
  {
   "cell_type": "markdown",
   "metadata": {},
   "source": [
    "#### C. Which are the top 10 items that have the most Carbohydrates?"
   ]
  },
  {
   "cell_type": "code",
   "execution_count": 13,
   "metadata": {},
   "outputs": [
    {
     "data": {
      "text/plain": [
       "50    Smoothies & Shakes\n",
       "52    Smoothies & Shakes\n",
       "49    Smoothies & Shakes\n",
       "51    Smoothies & Shakes\n",
       "48    Smoothies & Shakes\n",
       "41    Smoothies & Shakes\n",
       "47    Smoothies & Shakes\n",
       "35             Beverages\n",
       "44    Smoothies & Shakes\n",
       "23        Snacks & Sides\n",
       "Name: Category_Type, dtype: object"
      ]
     },
     "execution_count": 13,
     "metadata": {},
     "output_type": "execute_result"
    }
   ],
   "source": [
    "data.sort_values(by='Carbohydrates',ascending=False).head(10)['Category_Type']"
   ]
  },
  {
   "cell_type": "markdown",
   "metadata": {},
   "source": [
    "#### D. Display the bar graph for frequncy of `Categories` of food items and write your observations."
   ]
  },
  {
   "cell_type": "code",
   "execution_count": 19,
   "metadata": {},
   "outputs": [
    {
     "data": {
      "text/plain": [
       "<AxesSubplot:>"
      ]
     },
     "execution_count": 19,
     "metadata": {},
     "output_type": "execute_result"
    },
    {
     "data": {
      "image/png": "[encoded data removed]",
      "text/plain": [
       "<Figure size 432x288 with 1 Axes>"
      ]
     },
     "metadata": {
      "needs_background": "light"
     },
     "output_type": "display_data"
    }
   ],
   "source": [
    "data['Category_Type'].value_counts().plot(kind='bar')\n",
    "#Observation:\n",
    "#1.From the plot it's clear that the smoothies and shakes have large number of varieties\n",
    "#2.It is followed by snacks and sides\n",
    "#3.coffee and Tea has a least varities compared to the other products"
   ]
  },
  {
   "cell_type": "markdown",
   "metadata": {},
   "source": [
    "#### E. An Indian male requires 2500 calories in a day and a female requires 2000 calories in a day to maintain good lifestyle. Find the solutions as displayed in sample output1 and 2.\n",
    "    Sample Output1:\n",
    "\n",
    "    * Average calories of 'Beverages' category is 796.67\n",
    "    * On an Average 'Beverages' contributes to men's calories intake  0.32\n",
    "    * On an Average 'Beverages' contributes to women's calories intake  0.4\n",
    "    \n",
    "    Steps to get the output1\n",
    "    1. For each item of Beverages display calorie and calculate the contribution of that food item in the male and females's daily calorie need. \n",
    "    2. Calculate average calories for the beverages category\n",
    "    3. Calculate average contribution of calorie for male's requirement using beverages category\n",
    "    4. Calculate average contribution of calorie for female's requirement using beverages category\n"
   ]
  },
  {
   "cell_type": "code",
   "execution_count": 44,
   "metadata": {},
   "outputs": [
    {
     "name": "stdout",
     "output_type": "stream",
     "text": [
      "33    0.396\n",
      "34    0.420\n",
      "35    0.140\n",
      "Name: Calories, dtype: float64\n",
      "33    0.495\n",
      "34    0.525\n",
      "35    0.175\n",
      "Name: Calories, dtype: float64\n"
     ]
    }
   ],
   "source": [
    "data.head(10)\n",
    "male=(data[data['Category_Type']=='Beverages']['Calories']/2500)\n",
    "print(male)\n",
    "female=(data[data['Category_Type']=='Beverages']['Calories']/2000)\n",
    "print(female)"
   ]
  },
  {
   "cell_type": "code",
   "execution_count": 33,
   "metadata": {},
   "outputs": [
    {
     "name": "stdout",
     "output_type": "stream",
     "text": [
      "Avg calories of beverages: 796.6666666666666\n",
      "The calorie intake for the male between 19-30 years by beverages is : 0.31866666666666665\n",
      "The calorie intake for the male between 19-30 years by beverages is : 0.3983333333333333\n"
     ]
    }
   ],
   "source": [
    "avgbev=data[data['Category_Type']=='Beverages'] ['Calories'].mean()\n",
    "print('Avg calories of beverages:',avgbev)\n",
    "# Requirement for Male : The calorie requirement is 2500 Calories\n",
    "print('The calorie intake for the male between 19-30 years by beverages is :',avgbev/2500)\n",
    "# Requirement for Female : The calorie requirement is 2000 Calories\n",
    "print('The calorie intake for the male between 19-30 years by beverages is :',avgbev/2000)"
   ]
  },
  {
   "cell_type": "markdown",
   "metadata": {},
   "source": [
    "**Sample Output2**\n",
    "\n",
    "* Average calories of 'Coffee & Tea' category is 323.33\n",
    "* Averagely 'Coffee & Tea' contributes to men's calories intake for  0.13\n",
    "* Averagely 'Coffee & Tea' contributes to women's calories intake for  0.16\n",
    "\n",
    "    Steps to get the output2\n",
    "    1. For each item of 'Coffee & Tea' display calorie and calculate the contribution of that food item in the male and    females's daily calorie need. \n",
    "    2. Calculate average calories for the 'Coffee & Tea' category\n",
    "    3. Calculate average contribution of calorie for male's requirement using 'Coffee & Tea' category\n",
    "    4. Calculate average contribution of calorie for female's requirement using 'Coffee & Tea' category"
   ]
  },
  {
   "cell_type": "code",
   "execution_count": 58,
   "metadata": {},
   "outputs": [
    {
     "name": "stdout",
     "output_type": "stream",
     "text": [
      "calories intake for male\n",
      "36    0.208\n",
      "37    0.120\n",
      "38    0.060\n",
      "Name: Calories, dtype: float64\n",
      "calories intake for female\n",
      "36    0.260\n",
      "37    0.150\n",
      "38    0.075\n",
      "Name: Calories, dtype: float64\n"
     ]
    }
   ],
   "source": [
    "male=(data[data['Category_Type']=='Coffee & Tea']['Calories']/2500)\n",
    "print('calories intake for male')\n",
    "print(male)\n",
    "female=(data[data['Category_Type']=='Coffee & Tea']['Calories']/2000)\n",
    "print('calories intake for female')\n",
    "print(female)"
   ]
  },
  {
   "cell_type": "markdown",
   "metadata": {},
   "source": [
    "#### F. If you order grilled chicken rather than crispy chicken, what is the change in calorie intake?\n",
    "        Step1:  Display the suitable graph for the number of calories in Crispy Chicken category\n",
    "\n",
    "        Step2: Find the average calories for Crispy Chicken Category\n",
    "\n",
    "        Step3: Display the suitable graph for the number of calories in Grilled Chicken category\n",
    "\n",
    "        Step4: Find the average calories for Grilled Chicken Category\n",
    "\n",
    "        Step5: Get the final visual comparison of Crispy vs Grilled on the basis of calories\n",
    "\n",
    "        Step6: Write your observations."
   ]
  },
  {
   "cell_type": "markdown",
   "metadata": {},
   "source": [
    "##### Step1: Display the suitable graph for the number of calories in Crispy Chicken category"
   ]
  },
  {
   "cell_type": "code",
   "execution_count": 32,
   "metadata": {},
   "outputs": [
    {
     "data": {
      "text/plain": [
       "Text(0, 0.5, 'Calories')"
      ]
     },
     "execution_count": 32,
     "metadata": {},
     "output_type": "execute_result"
    },
    {
     "data": {
      "image/png": "[encoded data removed]",
      "text/plain": [
       "<Figure size 432x288 with 1 Axes>"
      ]
     },
     "metadata": {
      "needs_background": "light"
     },
     "output_type": "display_data"
    }
   ],
   "source": [
    "#df1=data[data['Item_in_Menu'].str.contains('Crispy Chicken')]['Item_in_Menu']\n",
    "data1=data[data['Item_in_Menu'].str.contains('Crispy Chicken')]\n",
    "plt.plot('Item_in_Menu','Calories',data=data1,marker='*')\n",
    "plt.xticks(rotation=90)\n",
    "plt.grid()\n",
    "plt.xlabel('Items in Crispy Chicken')\n",
    "plt.ylabel('Calories')"
   ]
  },
  {
   "cell_type": "markdown",
   "metadata": {},
   "source": [
    "##### Step2: Find the average calories for Crispy Chicken Category"
   ]
  },
  {
   "cell_type": "code",
   "execution_count": 70,
   "metadata": {},
   "outputs": [
    {
     "name": "stdout",
     "output_type": "stream",
     "text": [
      "The Average calories in the crispy Chicken category: 474.2857142857143\n"
     ]
    }
   ],
   "source": [
    "print('The Average calories in the crispy Chicken category:',data[data['Item_in_Menu'].str.contains('Crispy Chicken')]['Calories'].mean())"
   ]
  },
  {
   "cell_type": "markdown",
   "metadata": {},
   "source": [
    "##### Step3: Display the suitable graph for the number of calories in Grilled Chicken category"
   ]
  },
  {
   "cell_type": "code",
   "execution_count": 11,
   "metadata": {},
   "outputs": [
    {
     "data": {
      "image/png": "[encoded data removed]",
      "text/plain": [
       "<Figure size 432x288 with 1 Axes>"
      ]
     },
     "metadata": {
      "needs_background": "light"
     },
     "output_type": "display_data"
    }
   ],
   "source": [
    "data3=data[data['Item_in_Menu'].str.contains('Grilled Chicken')]\n",
    "plt.plot('Item_in_Menu','Calories',data=data3,marker='*')\n",
    "plt.xticks(rotation=90)\n",
    "plt.xlabel('Items in Grilled Chicken')\n",
    "plt.ylabel('Calories')\n",
    "plt.grid()"
   ]
  },
  {
   "cell_type": "markdown",
   "metadata": {},
   "source": [
    "##### Step4:Find the average calories for Grilled Chicken Category"
   ]
  },
  {
   "cell_type": "code",
   "execution_count": 95,
   "metadata": {},
   "outputs": [
    {
     "name": "stdout",
     "output_type": "stream",
     "text": [
      "The Average calories in the Grilled Chicken category: 468.3333333333333\n"
     ]
    }
   ],
   "source": [
    "print('The Average calories in the Grilled Chicken category:',data[data['Item_in_Menu'].str.contains('Grilled Chicken')]['Calories'].mean())"
   ]
  },
  {
   "cell_type": "markdown",
   "metadata": {},
   "source": [
    "##### Step 5: Get the final visual comparison of Crispy vs Grilled on the basis of calories"
   ]
  },
  {
   "cell_type": "code",
   "execution_count": 5,
   "metadata": {},
   "outputs": [
    {
     "ename": "NameError",
     "evalue": "name 'dataf' is not defined",
     "output_type": "error",
     "traceback": [
      "\u001b[1;31m---------------------------------------------------------------------------\u001b[0m",
      "\u001b[1;31mNameError\u001b[0m                                 Traceback (most recent call last)",
      "\u001b[1;32m<ipython-input-5-a3a630e75dfa>\u001b[0m in \u001b[0;36m<module>\u001b[1;34m\u001b[0m\n\u001b[1;32m----> 1\u001b[1;33m \u001b[0mdataf\u001b[0m\u001b[1;33m=\u001b[0m\u001b[0mdataf\u001b[0m\u001b[1;33m.\u001b[0m\u001b[0mreset_index\u001b[0m\u001b[1;33m(\u001b[0m\u001b[0mdrop\u001b[0m\u001b[1;33m=\u001b[0m\u001b[1;32mTrue\u001b[0m\u001b[1;33m)\u001b[0m                    \u001b[1;31m#calories_cc --> Calories of crispy Chicken\u001b[0m\u001b[1;33m\u001b[0m\u001b[1;33m\u001b[0m\u001b[0m\n\u001b[0m\u001b[0;32m      2\u001b[0m \u001b[0mdataL\u001b[0m\u001b[1;33m=\u001b[0m\u001b[0mdataL\u001b[0m\u001b[1;33m.\u001b[0m\u001b[0mreset_index\u001b[0m\u001b[1;33m(\u001b[0m\u001b[0mdrop\u001b[0m\u001b[1;33m=\u001b[0m\u001b[1;32mTrue\u001b[0m\u001b[1;33m)\u001b[0m                    \u001b[1;31m# calories_gc --> calories of Grilled Chicken\u001b[0m\u001b[1;33m\u001b[0m\u001b[1;33m\u001b[0m\u001b[0m\n\u001b[0;32m      3\u001b[0m \u001b[0mdataL\u001b[0m\u001b[1;33m\u001b[0m\u001b[1;33m\u001b[0m\u001b[0m\n\u001b[0;32m      4\u001b[0m \u001b[0mdata_cal\u001b[0m\u001b[1;33m=\u001b[0m\u001b[0mpd\u001b[0m\u001b[1;33m.\u001b[0m\u001b[0mconcat\u001b[0m\u001b[1;33m(\u001b[0m\u001b[1;33m[\u001b[0m\u001b[0mdataf\u001b[0m\u001b[1;33m,\u001b[0m\u001b[0mdataL\u001b[0m\u001b[1;33m]\u001b[0m\u001b[1;33m,\u001b[0m\u001b[0maxis\u001b[0m\u001b[1;33m=\u001b[0m\u001b[1;36m1\u001b[0m\u001b[1;33m)\u001b[0m\u001b[1;33m\u001b[0m\u001b[1;33m\u001b[0m\u001b[0m\n\u001b[0;32m      5\u001b[0m \u001b[0msns\u001b[0m\u001b[1;33m.\u001b[0m\u001b[0mpairplot\u001b[0m\u001b[1;33m(\u001b[0m\u001b[0mdata_cal\u001b[0m\u001b[1;33m)\u001b[0m\u001b[1;33m\u001b[0m\u001b[1;33m\u001b[0m\u001b[0m\n",
      "\u001b[1;31mNameError\u001b[0m: name 'dataf' is not defined"
     ]
    }
   ],
   "source": [
    "dataf=dataf.reset_index(drop=True)                    # (calories_cc --> Calories of crispy Chicken)\n",
    "dataL=dataL.reset_index(drop=True)                    # (calories_gc --> calories of Grilled Chicken)\n",
    "dataL\n",
    "data_cal=pd.concat([dataf,dataL],axis=1)\n",
    "sns.pairplot(data_cal)\n",
    "data_cal.plot(kind='line',marker='*')\n",
    "plt.grid()\n",
    "plt.xlabel('Count_items')\n",
    "plt.ylabel('Calories')"
   ]
  },
  {
   "cell_type": "markdown",
   "metadata": {},
   "source": [
    "##### Step6: Write your observations"
   ]
  },
  {
   "cell_type": "code",
   "execution_count": null,
   "metadata": {},
   "outputs": [],
   "source": [
    "#The Average calories in the crispy Chicken category: 474.2857142857143\n",
    "#The Average calories in the Grilled Chicken category: 468.3333333333333\n",
    "OBSERVATION:\n",
    "    *THE AVERAGE CALORIES OF CRISPY CHICKEN IS HIGHER THAN THE GRILLED CHICKEN\n",
    "    *PEAK IN THE GRAPH SHOWS THE HIGH CALORIE CONTENT IN CRISPY CHICKEN\n",
    "    *LEAST CALORIE CONTENT IS OBSERVED IN GRIBBED CHICKEN\n",
    "#By the average it satisfies male calorie requirement by 0.189 (Crispy Chicken)\n",
    "#By the average it satisfies female calorie requirement by 0.236  (Crispy Chicken)\n",
    "#By the average it satisfies male calorie requirement by 0. (Grilled Chicken)\n",
    "#By the average it satisfies female calorie requirement by 0.  (Grilled Chicken)\n",
    "#Max calories in crispy chicken: Premium Southwest Salad with Crispy Chicken:570\n",
    "#Max calories in grilled chicken:Honey Mustard Snack Wrap (Grilled Chicken):540"
   ]
  },
  {
   "cell_type": "markdown",
   "metadata": {},
   "source": [
    "##### G. Plot scatter plot between carbohydrates and calories"
   ]
  },
  {
   "cell_type": "code",
   "execution_count": 94,
   "metadata": {},
   "outputs": [
    {
     "data": {
      "image/png": "[encoded data removed]",
      "text/plain": [
       "<Figure size 432x288 with 1 Axes>"
      ]
     },
     "metadata": {
      "needs_background": "light"
     },
     "output_type": "display_data"
    }
   ],
   "source": [
    "plt.scatter(x='Calories',y='Carbohydrates',data=data)\n",
    "plt.xlabel('Calories')\n",
    "plt.ylabel('Carbohydrates')\n",
    "plt.grid()"
   ]
  }
 ],
 "metadata": {
  "kernelspec": {
   "display_name": "Python 3",
   "language": "python",
   "name": "python3"
  },
  "language_info": {
   "codemirror_mode": {
    "name": "ipython",
    "version": 3
   },
   "file_extension": ".py",
   "mimetype": "text/x-python",
   "name": "python",
   "nbconvert_exporter": "python",
   "pygments_lexer": "ipython3",
   "version": "3.8.8"
  }
 },
 "nbformat": 4,
 "nbformat_minor": 4
}
