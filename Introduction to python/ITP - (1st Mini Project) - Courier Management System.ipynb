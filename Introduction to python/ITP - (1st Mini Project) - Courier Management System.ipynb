{
 "cells": [
  {
   "cell_type": "markdown",
   "id": "cf19f384",
   "metadata": {},
   "source": [
    "# Q1. Create a Dictionary of lists to store the information of shipments given in the table"
   ]
  },
  {
   "cell_type": "code",
   "execution_count": 2,
   "id": "00d4124f",
   "metadata": {},
   "outputs": [
    {
     "data": {
      "text/plain": [
       "{101: [1, 3, '14-03-2020', '25-03-2020', 'Area1', 'Area6', 'Delivered', 198],\n",
       " 102: [4, 1, '18-06-2020', '09-07-2020', 'Area2', 'Area4', 'Delivered', 275],\n",
       " 103: [2, 3, '01-12-2020', 'Null', 'Area5', 'Area1', 'In-Transit', 200],\n",
       " 104: [1, 5, '23-06-2020', '25-06-2020', 'Area1', 'Area4', 'Delivered', 314],\n",
       " 105: [3, 4, '29-08-2020', '10-09-2020', 'Area5', 'Area3', 'Delivered', 275],\n",
       " 106: [5, 2, '28-06-2020', 'Null', 'Area3', 'Area1', 'In-Transit', 270]}"
      ]
     },
     "execution_count": 2,
     "metadata": {},
     "output_type": "execute_result"
    }
   ],
   "source": [
    "Dict={}\n",
    "Dict.update({101:[1,3,'14-03-2020','25-03-2020','Area1','Area6','Delivered',198]})\n",
    "Dict.update({102:[4,1,'18-06-2020','09-07-2020','Area2','Area4','Delivered',275]})\n",
    "Dict.update({103:[2,3,'01-12-2020','Null','Area5','Area1','In-Transit',200]})\n",
    "Dict.update({104:[1,5,'23-06-2020','25-06-2020','Area1','Area4','Delivered',314]})\n",
    "Dict.update({105:[3,4,'29-08-2020','10-09-2020','Area5','Area3','Delivered',275]})\n",
    "Dict.update({106:[5,2,'28-06-2020','Null','Area3','Area1','In-Transit',270]})\n",
    "Dict"
   ]
  },
  {
   "cell_type": "markdown",
   "id": "f66909db",
   "metadata": {},
   "source": [
    "# Q2. Create a Dictionary of to store the information of clients given in the table."
   ]
  },
  {
   "cell_type": "code",
   "execution_count": 3,
   "id": "66c8c920",
   "metadata": {},
   "outputs": [
    {
     "data": {
      "text/plain": [
       "{1: 'Philips', 2: 'Omega III', 3: 'Ramya', 4: 'Ramesh', 5: 'John'}"
      ]
     },
     "execution_count": 3,
     "metadata": {},
     "output_type": "execute_result"
    }
   ],
   "source": [
    "Clients={}\n",
    "Clients.update({1:'Philips'})\n",
    "Clients.update({2:'Omega III'})\n",
    "Clients.update({3:'Ramya'})\n",
    "Clients.update({4:'Ramesh'})\n",
    "Clients.update({5:'John'})\n",
    "Clients"
   ]
  },
  {
   "cell_type": "markdown",
   "id": "bee207a8",
   "metadata": {},
   "source": [
    "# Q3. Write a code to replace client’s id with their respective name in shipment dictionary using a loop and dictionary comprehension\n",
    "\n"
   ]
  },
  {
   "cell_type": "code",
   "execution_count": 4,
   "id": "f9f52cf0",
   "metadata": {},
   "outputs": [
    {
     "name": "stdout",
     "output_type": "stream",
     "text": [
      "{101: ['Philips', 'Ramya', '14-03-2020', '25-03-2020', 'Area1', 'Area6', 'Delivered', 198], 102: ['Ramesh', 'Philips', '18-06-2020', '09-07-2020', 'Area2', 'Area4', 'Delivered', 275], 103: ['Omega III', 'Ramya', '01-12-2020', 'Null', 'Area5', 'Area1', 'In-Transit', 200], 104: ['Philips', 'John', '23-06-2020', '25-06-2020', 'Area1', 'Area4', 'Delivered', 314], 105: ['Ramya', 'Ramesh', '29-08-2020', '10-09-2020', 'Area5', 'Area3', 'Delivered', 275], 106: ['John', 'Omega III', '28-06-2020', 'Null', 'Area3', 'Area1', 'In-Transit', 270]}\n"
     ]
    }
   ],
   "source": [
    "Dict_updated = {key:[Clients[k] if k in Clients else k for k in value] for key, value in Dict.items()}\n",
    "print(Dict_updated)"
   ]
  },
  {
   "cell_type": "markdown",
   "id": "c6b06ff9",
   "metadata": {},
   "source": [
    "# Q4. Print all shipment details that are sent by Phillip"
   ]
  },
  {
   "cell_type": "code",
   "execution_count": 5,
   "id": "3a8edea8",
   "metadata": {},
   "outputs": [
    {
     "data": {
      "text/plain": [
       "{101: ['Philips',\n",
       "  'Ramya',\n",
       "  '14-03-2020',\n",
       "  '25-03-2020',\n",
       "  'Area1',\n",
       "  'Area6',\n",
       "  'Delivered',\n",
       "  198],\n",
       " 104: ['Philips',\n",
       "  'John',\n",
       "  '23-06-2020',\n",
       "  '25-06-2020',\n",
       "  'Area1',\n",
       "  'Area4',\n",
       "  'Delivered',\n",
       "  314]}"
      ]
     },
     "execution_count": 5,
     "metadata": {},
     "output_type": "execute_result"
    }
   ],
   "source": [
    "dict(filter(lambda y:y[1][0]=='Philips',Dict_updated.items()))"
   ]
  },
  {
   "cell_type": "markdown",
   "id": "bc86e69d",
   "metadata": {},
   "source": [
    "# Q5. Print all shipment details that are received by Ramya"
   ]
  },
  {
   "cell_type": "code",
   "execution_count": 6,
   "id": "aa1cd24d",
   "metadata": {},
   "outputs": [
    {
     "data": {
      "text/plain": [
       "{101: ['Philips',\n",
       "  'Ramya',\n",
       "  '14-03-2020',\n",
       "  '25-03-2020',\n",
       "  'Area1',\n",
       "  'Area6',\n",
       "  'Delivered',\n",
       "  198],\n",
       " 103: ['Omega III',\n",
       "  'Ramya',\n",
       "  '01-12-2020',\n",
       "  'Null',\n",
       "  'Area5',\n",
       "  'Area1',\n",
       "  'In-Transit',\n",
       "  200]}"
      ]
     },
     "execution_count": 6,
     "metadata": {},
     "output_type": "execute_result"
    }
   ],
   "source": [
    "dict(filter(lambda x:x[1][1]=='Ramya',Dict_updated.items()))"
   ]
  },
  {
   "cell_type": "markdown",
   "id": "c41b69ed",
   "metadata": {},
   "source": [
    "# Q6. Print all shipments which are in 'In-Transit' status"
   ]
  },
  {
   "cell_type": "code",
   "execution_count": 8,
   "id": "2e4a1b60",
   "metadata": {},
   "outputs": [
    {
     "data": {
      "text/plain": [
       "{103: ['Omega III',\n",
       "  'Ramya',\n",
       "  '01-12-2020',\n",
       "  'Null',\n",
       "  'Area5',\n",
       "  'Area1',\n",
       "  'In-Transit',\n",
       "  200],\n",
       " 106: ['John',\n",
       "  'Omega III',\n",
       "  '28-06-2020',\n",
       "  'Null',\n",
       "  'Area3',\n",
       "  'Area1',\n",
       "  'In-Transit',\n",
       "  270]}"
      ]
     },
     "execution_count": 8,
     "metadata": {},
     "output_type": "execute_result"
    }
   ],
   "source": [
    "dict(filter(lambda x:x[1][6]=='In-Transit',Dict_updated.items()))"
   ]
  },
  {
   "cell_type": "markdown",
   "id": "2cbd3960",
   "metadata": {},
   "source": [
    "# Q7. Print all shipments which are delivered within 7 days of courier Start date"
   ]
  },
  {
   "cell_type": "code",
   "execution_count": 12,
   "id": "62625897",
   "metadata": {},
   "outputs": [
    {
     "data": {
      "text/plain": [
       "{104: ['Philips',\n",
       "  'John',\n",
       "  '23-06-2020',\n",
       "  '25-06-2020',\n",
       "  'Area1',\n",
       "  'Area4',\n",
       "  'Delivered',\n",
       "  314]}"
      ]
     },
     "execution_count": 12,
     "metadata": {},
     "output_type": "execute_result"
    }
   ],
   "source": [
    "from datetime import datetime as dt\n",
    "Dict7d=dict(filter(lambda x:(x[1][6]=='Delivered') and (dt.strptime(x[1][3],'%d-%m-%Y')-dt.strptime(x[1][2],'%d-%m-%Y')).days<7,Dict_updated.items()))\n",
    "Dict7d"
   ]
  },
  {
   "cell_type": "markdown",
   "id": "ecaa9052",
   "metadata": {},
   "source": [
    "# Q8. Print all shipments which are delivered after 15 days of courier start date or not yet been delivered."
   ]
  },
  {
   "cell_type": "code",
   "execution_count": 11,
   "id": "23bc0e58",
   "metadata": {},
   "outputs": [
    {
     "data": {
      "text/plain": [
       "{102: ['Ramesh',\n",
       "  'Philips',\n",
       "  '18-06-2020',\n",
       "  '09-07-2020',\n",
       "  'Area2',\n",
       "  'Area4',\n",
       "  'Delivered',\n",
       "  275],\n",
       " 103: ['Omega III',\n",
       "  'Ramya',\n",
       "  '01-12-2020',\n",
       "  'Null',\n",
       "  'Area5',\n",
       "  'Area1',\n",
       "  'In-Transit',\n",
       "  200],\n",
       " 106: ['John',\n",
       "  'Omega III',\n",
       "  '28-06-2020',\n",
       "  'Null',\n",
       "  'Area3',\n",
       "  'Area1',\n",
       "  'In-Transit',\n",
       "  270]}"
      ]
     },
     "execution_count": 11,
     "metadata": {},
     "output_type": "execute_result"
    }
   ],
   "source": [
    "from datetime import datetime as dt\n",
    "Dict15d=dict(filter(lambda x:(x[1][6]=='In-Transit') or (dt.strptime(x[1][3],'%d-%m-%Y')-dt.strptime(x[1][2],'%d-%m-%Y')).days>15,Dict_updated.items()))\n",
    "Dict15d"
   ]
  },
  {
   "cell_type": "markdown",
   "id": "b0ae8ffd",
   "metadata": {},
   "source": [
    "# Q9. Write a function find_all_routes to display all possible routes from senders location to receivers location given in the dictionary for each shipment."
   ]
  },
  {
   "cell_type": "code",
   "execution_count": null,
   "id": "e4b0f751",
   "metadata": {},
   "outputs": [],
   "source": []
  }
 ],
 "metadata": {
  "kernelspec": {
   "display_name": "Python 3 (ipykernel)",
   "language": "python",
   "name": "python3"
  },
  "language_info": {
   "codemirror_mode": {
    "name": "ipython",
    "version": 3
   },
   "file_extension": ".py",
   "mimetype": "text/x-python",
   "name": "python",
   "nbconvert_exporter": "python",
   "pygments_lexer": "ipython3",
   "version": "3.9.7"
  }
 },
 "nbformat": 4,
 "nbformat_minor": 5
}
